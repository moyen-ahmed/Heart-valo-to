{
 "cells": [
  {
   "cell_type": "markdown",
   "id": "d5d6fd08",
   "metadata": {},
   "source": [
    "Handle Missing Values"
   ]
  },
  {
   "cell_type": "code",
   "execution_count": 10,
   "id": "26888360",
   "metadata": {},
   "outputs": [
    {
     "name": "stdout",
     "output_type": "stream",
     "text": [
      "✅ Final cleaned dataset shape: (13328, 137)\n",
      "     HR_mean     HR_std     PR_mean     PR_std   QRSd_mean    QRSd_std  \\\n",
      "0  62.419378   7.254019  178.625000  25.377909  108.146341   81.480228   \n",
      "1  46.043361   6.425092  186.303797  24.492989   95.063291   21.392152   \n",
      "2  74.587370   3.379025  179.134752  23.376796  104.408451   19.260865   \n",
      "3  64.641225   8.128676  182.868852  20.198990  107.377049   51.313383   \n",
      "4  79.109622  13.557656  187.898551  16.409580  121.640288  120.741010   \n",
      "\n",
      "      QT_mean      QT_std    JTc_mean    JTc_std  ...  st80_aVF_std  \\\n",
      "0  389.678571  109.563114  285.452979  81.261413  ...      0.018684   \n",
      "1  380.253165   40.499911  248.865670  43.646579  ...      0.012294   \n",
      "2  372.253521   72.162881  298.168406  75.502867  ...      0.030279   \n",
      "3  383.150000   67.983024  289.990565  74.022704  ...      0.012784   \n",
      "4  405.304348  140.909383  318.483220  87.818569  ...      0.016001   \n",
      "\n",
      "   vat_aVF_mean  vat_aVF_std  ramp_aVF_mean  ramp_aVF_std  tamp_aVF_mean  \\\n",
      "0     55.636364    12.611683       0.429000      0.078032       0.133300   \n",
      "1     47.142857    16.077195       1.391143      0.071460       0.337714   \n",
      "2     67.333333    14.253123       1.370167      0.151857       0.417083   \n",
      "3     38.600000    11.663809       1.203400      0.058835       0.214900   \n",
      "4     46.615385    14.841038       1.380769      0.037426       0.075846   \n",
      "\n",
      "   tamp_aVF_std   age  sex  condition  \n",
      "0      0.098816  56.0  1.0     Normal  \n",
      "1      0.071161  19.0  0.0     Normal  \n",
      "2      0.161089  24.0  0.0     Normal  \n",
      "3      0.044089  19.0  1.0     Normal  \n",
      "4      0.102395  18.0  1.0     Normal  \n",
      "\n",
      "[5 rows x 137 columns]\n"
     ]
    }
   ],
   "source": [
    "import pandas as pd\n",
    "import numpy as np\n",
    "from sklearn.experimental import enable_iterative_imputer\n",
    "from sklearn.impute import IterativeImputer\n",
    "from sklearn.linear_model import BayesianRidge\n",
    "\n",
    "# Load dataset\n",
    "df = pd.read_csv(\"ptbxl_features.csv\")\n",
    "\n",
    "# ✅ Step 1: Drop rows with >5 missing values\n",
    "df_filtered = df[df.isna().sum(axis=1) <= 5].copy()\n",
    "\n",
    "# ✅ Step 2: Separate numeric and categorical columns\n",
    "numeric_cols = df_filtered.select_dtypes(include=[np.number]).columns\n",
    "categorical_cols = df_filtered.select_dtypes(exclude=[np.number]).columns\n",
    "\n",
    "df_numeric = df_filtered[numeric_cols]\n",
    "df_categorical = df_filtered[categorical_cols]  # Keep untouched\n",
    "\n",
    "# ✅ Step 3: Function for MICE Imputation\n",
    "def mice_imputation(data, m=5):\n",
    "    imputations = []\n",
    "    for seed in range(m):\n",
    "        imputer = IterativeImputer(\n",
    "            estimator=BayesianRidge(),\n",
    "            sample_posterior=True,\n",
    "            max_iter=10,\n",
    "            random_state=seed\n",
    "        )\n",
    "        imputed_array = imputer.fit_transform(data)\n",
    "        imputations.append(pd.DataFrame(imputed_array, columns=data.columns))\n",
    "    return imputations\n",
    "\n",
    "# ✅ Step 4: Apply MICE only on numeric columns\n",
    "imputed_sets = mice_imputation(df_numeric, m=5)\n",
    "\n",
    "# ✅ Step 5: Pool imputations (mean of all imputed datasets)\n",
    "mean_imputed_numeric = sum(imputed_sets) / len(imputed_sets)\n",
    "\n",
    "# ✅ Step 6: Recombine numeric and categorical columns\n",
    "final_df = pd.concat([mean_imputed_numeric, df_categorical.reset_index(drop=True)], axis=1)\n",
    "\n",
    "# ✅ Step 7: Save cleaned dataset\n",
    "final_df.to_csv(\"ptbxl_features_cleaned.csv\", index=False)\n",
    "\n",
    "print(\"✅ Final cleaned dataset shape:\", final_df.shape)\n",
    "print(final_df.head())\n",
    "\n"
   ]
  },
  {
   "cell_type": "code",
   "execution_count": null,
   "id": "7171b909",
   "metadata": {},
   "outputs": [],
   "source": []
  }
 ],
 "metadata": {
  "kernelspec": {
   "display_name": "Python 3",
   "language": "python",
   "name": "python3"
  },
  "language_info": {
   "codemirror_mode": {
    "name": "ipython",
    "version": 3
   },
   "file_extension": ".py",
   "mimetype": "text/x-python",
   "name": "python",
   "nbconvert_exporter": "python",
   "pygments_lexer": "ipython3",
   "version": "3.13.3"
  }
 },
 "nbformat": 4,
 "nbformat_minor": 5
}
