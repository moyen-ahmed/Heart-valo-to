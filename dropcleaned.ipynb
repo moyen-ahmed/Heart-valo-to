{
 "cells": [
  {
   "cell_type": "code",
   "execution_count": null,
   "id": "51378aaa",
   "metadata": {},
   "outputs": [
    {
     "name": "stdout",
     "output_type": "stream",
     "text": [
      "Class Distribution:\n",
      "condition\n",
      "Normal                   9514\n",
      "Myocardial Infarction    5229\n",
      "CAD                      1546\n",
      "Name: count, dtype: int64\n",
      "<class 'pandas.core.frame.DataFrame'>\n",
      "RangeIndex: 21238 entries, 0 to 21237\n",
      "Columns: 163 entries, filename_hr to condition\n",
      "dtypes: bool(3), float64(141), int64(3), object(16)\n",
      "memory usage: 26.0+ MB\n",
      "Dataset shape: (21238, 163)\n"
     ]
    }
   ],
   "source": [
    "# ==========================================================\n",
    "# PTB-XL Condition Labeling Script\n",
    "# Labels ECG records as Normal, Myocardial Infarction, or CAD\n",
    "# ==========================================================\n",
    "\n",
    "import pandas as pd\n",
    "import ast\n",
    "\n",
    "# === Load Dataset ===\n",
    "file_path = \"ptbxl_merged_features.csv\"   # Change this path if needed\n",
    "df = pd.read_csv(file_path, low_memory=False)\n",
    "\n",
    "# === Define labeling function ===\n",
    "def assign_condition(scp_codes_str):\n",
    "    \"\"\"\n",
    "    Map PTB-XL diagnostic codes to three classes:\n",
    "    - Normal: codes containing 'NORM'\n",
    "    - Myocardial Infarction: codes containing 'MI' (e.g., IMI, AMI, PMI)\n",
    "    - CAD: ischemic ST-T changes (codes starting with ISC or STTC)\n",
    "    Returns 'Other' if no matching condition is found.\n",
    "    \"\"\"\n",
    "    try:\n",
    "        codes = ast.literal_eval(scp_codes_str)   # Convert string to dict\n",
    "        code_set = set(codes.keys())              # Extract all diagnostic codes\n",
    "\n",
    "        if any(code.startswith('NORM') for code in code_set):\n",
    "            return 'Normal'\n",
    "        elif any('MI' in code for code in code_set):\n",
    "            return 'Myocardial Infarction'\n",
    "        elif any(code.startswith('ISC') or code.startswith('STTC') for code in code_set):\n",
    "            return 'CAD'\n",
    "        else:\n",
    "            return 'Other'\n",
    "    except (ValueError, SyntaxError):\n",
    "        return 'Other'\n",
    "\n",
    "# === Apply labeling to create 'condition' column ===\n",
    "df['condition'] = df['scp_codes'].apply(assign_condition)\n",
    "\n",
    "# === Filter only the three target classes (drop 'Other') ===\n",
    "df_filtered = df[df['condition'].isin(['Normal', 'Myocardial Infarction', 'CAD'])].copy()\n",
    "\n",
    "# === Display class distribution ===\n",
    "print(\"Class Distribution:\")\n",
    "print(df_filtered['condition'].value_counts())\n",
    "\n",
    "# === Save labeled dataset ===\n",
    "output_file = \"ptbxl_labeled_conditions.csv\"\n",
    "df_filtered.to_csv(output_file, index=False)\n",
    "print(f\"✅ Labeled dataset saved as '{output_file}'\")\n",
    "\n",
    "\n",
    "df_filtered.info()\n",
    "print(\"Dataset shape:\", df_filtered.shape)"
   ]
  }
 ],
 "metadata": {
  "kernelspec": {
   "display_name": "Python 3",
   "language": "python",
   "name": "python3"
  },
  "language_info": {
   "codemirror_mode": {
    "name": "ipython",
    "version": 3
   },
   "file_extension": ".py",
   "mimetype": "text/x-python",
   "name": "python",
   "nbconvert_exporter": "python",
   "pygments_lexer": "ipython3",
   "version": "3.13.3"
  }
 },
 "nbformat": 4,
 "nbformat_minor": 5
}
