{
 "cells": [
  {
   "cell_type": "markdown",
   "id": "5abdf824",
   "metadata": {},
   "source": [
    "# Still have some missing value that solve here"
   ]
  },
  {
   "cell_type": "code",
   "execution_count": null,
   "id": "dfbde64b",
   "metadata": {},
   "outputs": [
    {
     "name": "stdout",
     "output_type": "stream",
     "text": [
      "🔍 Missing Values BEFORE Handling:\n",
      "\n",
      "l5_T_asymmetry     661\n",
      "l4_ST_elevation    200\n",
      "l5_QRS_area        136\n",
      "l5_Q_amp            95\n",
      "l5_T_amp            95\n",
      "l5_ST_elevation     95\n",
      "dtype: int64\n",
      "\n",
      "🔧 Handling missing values for: l5_T_asymmetry\n",
      "→ Filled with median: 3.556883018236616\n",
      "\n",
      "🔧 Handling missing values for: l4_ST_elevation\n",
      "→ Filled with median: -0.362125781133784\n",
      "\n",
      "🔧 Handling missing values for: l5_QRS_area\n",
      "→ Filled with median: 89.1715827290839\n",
      "\n",
      "🔧 Handling missing values for: l5_Q_amp\n",
      "→ Filled with median: -0.38166692351024134\n",
      "\n",
      "🔧 Handling missing values for: l5_T_amp\n",
      "→ Filled with median: 0.7226169467133832\n",
      "\n",
      "🔧 Handling missing values for: l5_ST_elevation\n",
      "→ Filled with median: -0.38730733097062664\n",
      "\n",
      "✅ Missing Values AFTER Handling:\n",
      "\n",
      "🎉 No missing values remain!\n",
      "\n",
      "📁 Cleaned dataset saved as 'cleaned_missingvalues.csv'\n"
     ]
    },
    {
     "name": "stderr",
     "output_type": "stream",
     "text": [
      "C:\\Users\\estya\\AppData\\Local\\Temp\\ipykernel_3548\\2384181515.py:25: FutureWarning: A value is trying to be set on a copy of a DataFrame or Series through chained assignment using an inplace method.\n",
      "The behavior will change in pandas 3.0. This inplace method will never work because the intermediate object on which we are setting values always behaves as a copy.\n",
      "\n",
      "For example, when doing 'df[col].method(value, inplace=True)', try using 'df.method({col: value}, inplace=True)' or df[col] = df[col].method(value) instead, to perform the operation inplace on the original object.\n",
      "\n",
      "\n",
      "  df[col].fillna(median_value, inplace=True)\n"
     ]
    }
   ],
   "source": [
    "import pandas as pd\n",
    "\n",
    "# Load the dataset\n",
    "df = pd.read_csv(\"missingvaluesdone.csv\")\n",
    "\n",
    "# Step 1: Show missing values BEFORE handling\n",
    "print(\"🔍 Missing Values BEFORE Handling:\\n\")\n",
    "missing_before = df.isnull().sum()\n",
    "missing_before = missing_before[missing_before > 0].sort_values(ascending=False)\n",
    "print(missing_before)\n",
    "\n",
    "# Step 2: Handle missing values column by column\n",
    "for col in missing_before.index:\n",
    "    print(f\"\\n🔧 Handling missing values for: {col}\")\n",
    "    \n",
    "    if df[col].dtype == 'object':\n",
    "        # Categorical column: fill with mode\n",
    "        mode_value = df[col].mode()[0]\n",
    "        df[col].fillna(mode_value, inplace=True)\n",
    "        print(f\"→ Filled with mode: '{mode_value}'\")\n",
    "    \n",
    "    elif df[col].dtype in ['int64', 'float64']:\n",
    "        # Numerical column: fill with median\n",
    "        median_value = df[col].median()\n",
    "        df[col].fillna(median_value, inplace=True)\n",
    "        print(f\"→ Filled with median: {median_value}\")\n",
    "    \n",
    "    else:\n",
    "        print(f\"⚠ Unsupported column type for: {col}\")\n",
    "\n",
    "# Step 3: Show missing values AFTER handling\n",
    "print(\"\\n✅ Missing Values AFTER Handling:\\n\")\n",
    "missing_after = df.isnull().sum()\n",
    "missing_after = missing_after[missing_after > 0]\n",
    "if missing_after.empty:\n",
    "    print(\"No missing values remain!\")\n",
    "else:\n",
    "    print(missing_after)\n",
    "\n",
    "# Step 4: Save cleaned dataset\n",
    "# df.to_csv(\"cleaned_missingvalues.csv\", index=False)\n",
    "print(\"\\n📁 Cleaned dataset saved as 'cleaned_missingvalues.csv'\")\n"
   ]
  },
  {
   "cell_type": "code",
   "execution_count": null,
   "id": "b58e2618",
   "metadata": {},
   "outputs": [
    {
     "name": "stdout",
     "output_type": "stream",
     "text": [
      "✅ All columns are clean — no missing values remain.\n"
     ]
    }
   ],
   "source": [
    "import pandas as pd\n",
    "\n",
    "# Load the cleaned dataset\n",
    "\n",
    "\n",
    "# Check for any remaining missing values\n",
    "missing_check = df.isnull().sum()\n",
    "missing_check = missing_check[missing_check > 0]\n",
    "\n",
    "if missing_check.empty:\n",
    "    print(\" All columns are clean — no missing values remain.\")\n",
    "else:\n",
    "    print(\" Still missing values in the following columns:\")\n",
    "    print(missing_check)\n"
   ]
  }
 ],
 "metadata": {
  "kernelspec": {
   "display_name": "base",
   "language": "python",
   "name": "python3"
  },
  "language_info": {
   "codemirror_mode": {
    "name": "ipython",
    "version": 3
   },
   "file_extension": ".py",
   "mimetype": "text/x-python",
   "name": "python",
   "nbconvert_exporter": "python",
   "pygments_lexer": "ipython3",
   "version": "3.12.7"
  }
 },
 "nbformat": 4,
 "nbformat_minor": 5
}
