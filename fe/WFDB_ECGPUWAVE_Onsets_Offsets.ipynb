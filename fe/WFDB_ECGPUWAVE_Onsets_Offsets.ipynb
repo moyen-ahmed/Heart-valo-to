{
 "cells": [
  {
   "cell_type": "markdown",
   "id": "058d5292",
   "metadata": {},
   "source": [
    "# ECGPUWAVE Onsets/Offsets Detection\n",
    "Notebook to detect clinically accurate P/QRS/T onsets, peaks, and offsets using WFDB's ecgpuwave tool."
   ]
  },
  {
   "cell_type": "code",
   "execution_count": 1,
   "id": "71e16e3e",
   "metadata": {},
   "outputs": [
    {
     "name": "stdout",
     "output_type": "stream",
     "text": [
      "Requirement already satisfied: wfdb in c:\\users\\hajel\\appdata\\local\\programs\\python\\python313\\lib\\site-packages (4.3.0)\n",
      "Requirement already satisfied: aiohttp>=3.10.11 in c:\\users\\hajel\\appdata\\local\\programs\\python\\python313\\lib\\site-packages (from wfdb) (3.12.14)\n",
      "Requirement already satisfied: fsspec>=2023.10.0 in c:\\users\\hajel\\appdata\\local\\programs\\python\\python313\\lib\\site-packages (from wfdb) (2025.3.0)\n",
      "Requirement already satisfied: matplotlib>=3.2.2 in c:\\users\\hajel\\appdata\\local\\programs\\python\\python313\\lib\\site-packages (from wfdb) (3.10.3)\n",
      "Requirement already satisfied: numpy>=1.26.4 in c:\\users\\hajel\\appdata\\local\\programs\\python\\python313\\lib\\site-packages (from wfdb) (2.2.6)\n",
      "Requirement already satisfied: pandas>=2.2.3 in c:\\users\\hajel\\appdata\\local\\programs\\python\\python313\\lib\\site-packages (from wfdb) (2.3.1)\n",
      "Requirement already satisfied: requests>=2.8.1 in c:\\users\\hajel\\appdata\\local\\programs\\python\\python313\\lib\\site-packages (from wfdb) (2.32.4)\n",
      "Requirement already satisfied: scipy>=1.13.0 in c:\\users\\hajel\\appdata\\local\\programs\\python\\python313\\lib\\site-packages (from wfdb) (1.15.3)\n",
      "Requirement already satisfied: soundfile>=0.10.0 in c:\\users\\hajel\\appdata\\local\\programs\\python\\python313\\lib\\site-packages (from wfdb) (0.13.1)\n",
      "Requirement already satisfied: aiohappyeyeballs>=2.5.0 in c:\\users\\hajel\\appdata\\local\\programs\\python\\python313\\lib\\site-packages (from aiohttp>=3.10.11->wfdb) (2.6.1)\n",
      "Requirement already satisfied: aiosignal>=1.4.0 in c:\\users\\hajel\\appdata\\local\\programs\\python\\python313\\lib\\site-packages (from aiohttp>=3.10.11->wfdb) (1.4.0)\n",
      "Requirement already satisfied: attrs>=17.3.0 in c:\\users\\hajel\\appdata\\local\\programs\\python\\python313\\lib\\site-packages (from aiohttp>=3.10.11->wfdb) (25.3.0)\n",
      "Requirement already satisfied: frozenlist>=1.1.1 in c:\\users\\hajel\\appdata\\local\\programs\\python\\python313\\lib\\site-packages (from aiohttp>=3.10.11->wfdb) (1.7.0)\n",
      "Requirement already satisfied: multidict<7.0,>=4.5 in c:\\users\\hajel\\appdata\\local\\programs\\python\\python313\\lib\\site-packages (from aiohttp>=3.10.11->wfdb) (6.6.3)\n",
      "Requirement already satisfied: propcache>=0.2.0 in c:\\users\\hajel\\appdata\\local\\programs\\python\\python313\\lib\\site-packages (from aiohttp>=3.10.11->wfdb) (0.3.2)\n",
      "Requirement already satisfied: yarl<2.0,>=1.17.0 in c:\\users\\hajel\\appdata\\local\\programs\\python\\python313\\lib\\site-packages (from aiohttp>=3.10.11->wfdb) (1.20.1)\n",
      "Requirement already satisfied: idna>=2.0 in c:\\users\\hajel\\appdata\\local\\programs\\python\\python313\\lib\\site-packages (from yarl<2.0,>=1.17.0->aiohttp>=3.10.11->wfdb) (3.10)\n",
      "Requirement already satisfied: contourpy>=1.0.1 in c:\\users\\hajel\\appdata\\local\\programs\\python\\python313\\lib\\site-packages (from matplotlib>=3.2.2->wfdb) (1.3.2)\n",
      "Requirement already satisfied: cycler>=0.10 in c:\\users\\hajel\\appdata\\local\\programs\\python\\python313\\lib\\site-packages (from matplotlib>=3.2.2->wfdb) (0.12.1)\n",
      "Requirement already satisfied: fonttools>=4.22.0 in c:\\users\\hajel\\appdata\\local\\programs\\python\\python313\\lib\\site-packages (from matplotlib>=3.2.2->wfdb) (4.59.0)\n",
      "Requirement already satisfied: kiwisolver>=1.3.1 in c:\\users\\hajel\\appdata\\local\\programs\\python\\python313\\lib\\site-packages (from matplotlib>=3.2.2->wfdb) (1.4.8)\n",
      "Requirement already satisfied: packaging>=20.0 in c:\\users\\hajel\\appdata\\local\\programs\\python\\python313\\lib\\site-packages (from matplotlib>=3.2.2->wfdb) (24.2)\n",
      "Requirement already satisfied: pillow>=8 in c:\\users\\hajel\\appdata\\local\\programs\\python\\python313\\lib\\site-packages (from matplotlib>=3.2.2->wfdb) (11.2.1)\n",
      "Requirement already satisfied: pyparsing>=2.3.1 in c:\\users\\hajel\\appdata\\local\\programs\\python\\python313\\lib\\site-packages (from matplotlib>=3.2.2->wfdb) (3.2.3)\n",
      "Requirement already satisfied: python-dateutil>=2.7 in c:\\users\\hajel\\appdata\\local\\programs\\python\\python313\\lib\\site-packages (from matplotlib>=3.2.2->wfdb) (2.9.0.post0)\n",
      "Requirement already satisfied: pytz>=2020.1 in c:\\users\\hajel\\appdata\\local\\programs\\python\\python313\\lib\\site-packages (from pandas>=2.2.3->wfdb) (2023.4)\n",
      "Requirement already satisfied: tzdata>=2022.7 in c:\\users\\hajel\\appdata\\local\\programs\\python\\python313\\lib\\site-packages (from pandas>=2.2.3->wfdb) (2025.2)\n",
      "Requirement already satisfied: six>=1.5 in c:\\users\\hajel\\appdata\\local\\programs\\python\\python313\\lib\\site-packages (from python-dateutil>=2.7->matplotlib>=3.2.2->wfdb) (1.17.0)\n",
      "Requirement already satisfied: charset_normalizer<4,>=2 in c:\\users\\hajel\\appdata\\local\\programs\\python\\python313\\lib\\site-packages (from requests>=2.8.1->wfdb) (3.4.2)\n",
      "Requirement already satisfied: urllib3<3,>=1.21.1 in c:\\users\\hajel\\appdata\\local\\programs\\python\\python313\\lib\\site-packages (from requests>=2.8.1->wfdb) (1.26.20)\n",
      "Requirement already satisfied: certifi>=2017.4.17 in c:\\users\\hajel\\appdata\\local\\programs\\python\\python313\\lib\\site-packages (from requests>=2.8.1->wfdb) (2025.7.14)\n",
      "Requirement already satisfied: cffi>=1.0 in c:\\users\\hajel\\appdata\\local\\programs\\python\\python313\\lib\\site-packages (from soundfile>=0.10.0->wfdb) (1.17.1)\n",
      "Requirement already satisfied: pycparser in c:\\users\\hajel\\appdata\\local\\programs\\python\\python313\\lib\\site-packages (from cffi>=1.0->soundfile>=0.10.0->wfdb) (2.22)\n"
     ]
    },
    {
     "name": "stderr",
     "output_type": "stream",
     "text": [
      "\n",
      "[notice] A new release of pip is available: 25.1.1 -> 25.2\n",
      "[notice] To update, run: python.exe -m pip install --upgrade pip\n"
     ]
    }
   ],
   "source": [
    "\n",
    "# Install dependencies\n",
    "!pip install wfdb\n",
    "# Note: You also need to install WFDB tools (with ecgpuwave) separately on your system:\n",
    "# Linux: sudo apt-get install wfdb-tools\n",
    "# MacOS: brew install wfdb\n",
    "# Windows: Download ecgpuwave from PhysioNet and add to PATH\n"
   ]
  },
  {
   "cell_type": "code",
   "execution_count": 2,
   "id": "a3e652b7",
   "metadata": {},
   "outputs": [
    {
     "ename": "FileNotFoundError",
     "evalue": "[WinError 2] The system cannot find the file specified",
     "output_type": "error",
     "traceback": [
      "\u001b[31m---------------------------------------------------------------------------\u001b[39m",
      "\u001b[31mFileNotFoundError\u001b[39m                         Traceback (most recent call last)",
      "\u001b[36mCell\u001b[39m\u001b[36m \u001b[39m\u001b[32mIn[2]\u001b[39m\u001b[32m, line 14\u001b[39m\n\u001b[32m     11\u001b[39m out_annot = \u001b[33mf\u001b[39m\u001b[33m'\u001b[39m\u001b[38;5;132;01m{\u001b[39;00mrecord_name\u001b[38;5;132;01m}\u001b[39;00m\u001b[33m.\u001b[39m\u001b[38;5;132;01m{\u001b[39;00mannotator\u001b[38;5;132;01m}\u001b[39;00m\u001b[33m'\u001b[39m\n\u001b[32m     13\u001b[39m \u001b[38;5;66;03m# Run ecgpuwave\u001b[39;00m\n\u001b[32m---> \u001b[39m\u001b[32m14\u001b[39m exit_code = \u001b[43msubprocess\u001b[49m\u001b[43m.\u001b[49m\u001b[43mcall\u001b[49m\u001b[43m(\u001b[49m\u001b[43m[\u001b[49m\u001b[33;43m'\u001b[39;49m\u001b[33;43mecgpuwave\u001b[39;49m\u001b[33;43m'\u001b[39;49m\u001b[43m,\u001b[49m\u001b[43m \u001b[49m\u001b[33;43m'\u001b[39;49m\u001b[33;43m-r\u001b[39;49m\u001b[33;43m'\u001b[39;49m\u001b[43m,\u001b[49m\u001b[43m \u001b[49m\u001b[43mrecord_name\u001b[49m\u001b[43m,\u001b[49m\u001b[43m \u001b[49m\u001b[33;43m'\u001b[39;49m\u001b[33;43m-a\u001b[39;49m\u001b[33;43m'\u001b[39;49m\u001b[43m,\u001b[49m\u001b[43m \u001b[49m\u001b[43mannotator\u001b[49m\u001b[43m]\u001b[49m\u001b[43m)\u001b[49m\n\u001b[32m     15\u001b[39m \u001b[38;5;28;01mif\u001b[39;00m exit_code != \u001b[32m0\u001b[39m:\n\u001b[32m     16\u001b[39m     \u001b[38;5;28mprint\u001b[39m(\u001b[33m\"\u001b[39m\u001b[33m⚠️ ecgpuwave failed or is not installed. Install wfdb-tools and retry.\u001b[39m\u001b[33m\"\u001b[39m)\n",
      "\u001b[36mFile \u001b[39m\u001b[32mc:\\Users\\Hajel\\AppData\\Local\\Programs\\Python\\Python313\\Lib\\subprocess.py:395\u001b[39m, in \u001b[36mcall\u001b[39m\u001b[34m(timeout, *popenargs, **kwargs)\u001b[39m\n\u001b[32m    387\u001b[39m \u001b[38;5;28;01mdef\u001b[39;00m\u001b[38;5;250m \u001b[39m\u001b[34mcall\u001b[39m(*popenargs, timeout=\u001b[38;5;28;01mNone\u001b[39;00m, **kwargs):\n\u001b[32m    388\u001b[39m \u001b[38;5;250m    \u001b[39m\u001b[33;03m\"\"\"Run command with arguments.  Wait for command to complete or\u001b[39;00m\n\u001b[32m    389\u001b[39m \u001b[33;03m    for timeout seconds, then return the returncode attribute.\u001b[39;00m\n\u001b[32m    390\u001b[39m \n\u001b[32m   (...)\u001b[39m\u001b[32m    393\u001b[39m \u001b[33;03m    retcode = call([\"ls\", \"-l\"])\u001b[39;00m\n\u001b[32m    394\u001b[39m \u001b[33;03m    \"\"\"\u001b[39;00m\n\u001b[32m--> \u001b[39m\u001b[32m395\u001b[39m     \u001b[38;5;28;01mwith\u001b[39;00m \u001b[43mPopen\u001b[49m\u001b[43m(\u001b[49m\u001b[43m*\u001b[49m\u001b[43mpopenargs\u001b[49m\u001b[43m,\u001b[49m\u001b[43m \u001b[49m\u001b[43m*\u001b[49m\u001b[43m*\u001b[49m\u001b[43mkwargs\u001b[49m\u001b[43m)\u001b[49m \u001b[38;5;28;01mas\u001b[39;00m p:\n\u001b[32m    396\u001b[39m         \u001b[38;5;28;01mtry\u001b[39;00m:\n\u001b[32m    397\u001b[39m             \u001b[38;5;28;01mreturn\u001b[39;00m p.wait(timeout=timeout)\n",
      "\u001b[36mFile \u001b[39m\u001b[32mc:\\Users\\Hajel\\AppData\\Local\\Programs\\Python\\Python313\\Lib\\subprocess.py:1039\u001b[39m, in \u001b[36mPopen.__init__\u001b[39m\u001b[34m(self, args, bufsize, executable, stdin, stdout, stderr, preexec_fn, close_fds, shell, cwd, env, universal_newlines, startupinfo, creationflags, restore_signals, start_new_session, pass_fds, user, group, extra_groups, encoding, errors, text, umask, pipesize, process_group)\u001b[39m\n\u001b[32m   1035\u001b[39m         \u001b[38;5;28;01mif\u001b[39;00m \u001b[38;5;28mself\u001b[39m.text_mode:\n\u001b[32m   1036\u001b[39m             \u001b[38;5;28mself\u001b[39m.stderr = io.TextIOWrapper(\u001b[38;5;28mself\u001b[39m.stderr,\n\u001b[32m   1037\u001b[39m                     encoding=encoding, errors=errors)\n\u001b[32m-> \u001b[39m\u001b[32m1039\u001b[39m     \u001b[38;5;28;43mself\u001b[39;49m\u001b[43m.\u001b[49m\u001b[43m_execute_child\u001b[49m\u001b[43m(\u001b[49m\u001b[43margs\u001b[49m\u001b[43m,\u001b[49m\u001b[43m \u001b[49m\u001b[43mexecutable\u001b[49m\u001b[43m,\u001b[49m\u001b[43m \u001b[49m\u001b[43mpreexec_fn\u001b[49m\u001b[43m,\u001b[49m\u001b[43m \u001b[49m\u001b[43mclose_fds\u001b[49m\u001b[43m,\u001b[49m\n\u001b[32m   1040\u001b[39m \u001b[43m                        \u001b[49m\u001b[43mpass_fds\u001b[49m\u001b[43m,\u001b[49m\u001b[43m \u001b[49m\u001b[43mcwd\u001b[49m\u001b[43m,\u001b[49m\u001b[43m \u001b[49m\u001b[43menv\u001b[49m\u001b[43m,\u001b[49m\n\u001b[32m   1041\u001b[39m \u001b[43m                        \u001b[49m\u001b[43mstartupinfo\u001b[49m\u001b[43m,\u001b[49m\u001b[43m \u001b[49m\u001b[43mcreationflags\u001b[49m\u001b[43m,\u001b[49m\u001b[43m \u001b[49m\u001b[43mshell\u001b[49m\u001b[43m,\u001b[49m\n\u001b[32m   1042\u001b[39m \u001b[43m                        \u001b[49m\u001b[43mp2cread\u001b[49m\u001b[43m,\u001b[49m\u001b[43m \u001b[49m\u001b[43mp2cwrite\u001b[49m\u001b[43m,\u001b[49m\n\u001b[32m   1043\u001b[39m \u001b[43m                        \u001b[49m\u001b[43mc2pread\u001b[49m\u001b[43m,\u001b[49m\u001b[43m \u001b[49m\u001b[43mc2pwrite\u001b[49m\u001b[43m,\u001b[49m\n\u001b[32m   1044\u001b[39m \u001b[43m                        \u001b[49m\u001b[43merrread\u001b[49m\u001b[43m,\u001b[49m\u001b[43m \u001b[49m\u001b[43merrwrite\u001b[49m\u001b[43m,\u001b[49m\n\u001b[32m   1045\u001b[39m \u001b[43m                        \u001b[49m\u001b[43mrestore_signals\u001b[49m\u001b[43m,\u001b[49m\n\u001b[32m   1046\u001b[39m \u001b[43m                        \u001b[49m\u001b[43mgid\u001b[49m\u001b[43m,\u001b[49m\u001b[43m \u001b[49m\u001b[43mgids\u001b[49m\u001b[43m,\u001b[49m\u001b[43m \u001b[49m\u001b[43muid\u001b[49m\u001b[43m,\u001b[49m\u001b[43m \u001b[49m\u001b[43mumask\u001b[49m\u001b[43m,\u001b[49m\n\u001b[32m   1047\u001b[39m \u001b[43m                        \u001b[49m\u001b[43mstart_new_session\u001b[49m\u001b[43m,\u001b[49m\u001b[43m \u001b[49m\u001b[43mprocess_group\u001b[49m\u001b[43m)\u001b[49m\n\u001b[32m   1048\u001b[39m \u001b[38;5;28;01mexcept\u001b[39;00m:\n\u001b[32m   1049\u001b[39m     \u001b[38;5;66;03m# Cleanup if the child failed starting.\u001b[39;00m\n\u001b[32m   1050\u001b[39m     \u001b[38;5;28;01mfor\u001b[39;00m f \u001b[38;5;129;01min\u001b[39;00m \u001b[38;5;28mfilter\u001b[39m(\u001b[38;5;28;01mNone\u001b[39;00m, (\u001b[38;5;28mself\u001b[39m.stdin, \u001b[38;5;28mself\u001b[39m.stdout, \u001b[38;5;28mself\u001b[39m.stderr)):\n",
      "\u001b[36mFile \u001b[39m\u001b[32mc:\\Users\\Hajel\\AppData\\Local\\Programs\\Python\\Python313\\Lib\\subprocess.py:1551\u001b[39m, in \u001b[36mPopen._execute_child\u001b[39m\u001b[34m(self, args, executable, preexec_fn, close_fds, pass_fds, cwd, env, startupinfo, creationflags, shell, p2cread, p2cwrite, c2pread, c2pwrite, errread, errwrite, unused_restore_signals, unused_gid, unused_gids, unused_uid, unused_umask, unused_start_new_session, unused_process_group)\u001b[39m\n\u001b[32m   1549\u001b[39m \u001b[38;5;66;03m# Start the process\u001b[39;00m\n\u001b[32m   1550\u001b[39m \u001b[38;5;28;01mtry\u001b[39;00m:\n\u001b[32m-> \u001b[39m\u001b[32m1551\u001b[39m     hp, ht, pid, tid = \u001b[43m_winapi\u001b[49m\u001b[43m.\u001b[49m\u001b[43mCreateProcess\u001b[49m\u001b[43m(\u001b[49m\u001b[43mexecutable\u001b[49m\u001b[43m,\u001b[49m\u001b[43m \u001b[49m\u001b[43margs\u001b[49m\u001b[43m,\u001b[49m\n\u001b[32m   1552\u001b[39m \u001b[43m                             \u001b[49m\u001b[38;5;66;43;03m# no special security\u001b[39;49;00m\n\u001b[32m   1553\u001b[39m \u001b[43m                             \u001b[49m\u001b[38;5;28;43;01mNone\u001b[39;49;00m\u001b[43m,\u001b[49m\u001b[43m \u001b[49m\u001b[38;5;28;43;01mNone\u001b[39;49;00m\u001b[43m,\u001b[49m\n\u001b[32m   1554\u001b[39m \u001b[43m                             \u001b[49m\u001b[38;5;28;43mint\u001b[39;49m\u001b[43m(\u001b[49m\u001b[38;5;129;43;01mnot\u001b[39;49;00m\u001b[43m \u001b[49m\u001b[43mclose_fds\u001b[49m\u001b[43m)\u001b[49m\u001b[43m,\u001b[49m\n\u001b[32m   1555\u001b[39m \u001b[43m                             \u001b[49m\u001b[43mcreationflags\u001b[49m\u001b[43m,\u001b[49m\n\u001b[32m   1556\u001b[39m \u001b[43m                             \u001b[49m\u001b[43menv\u001b[49m\u001b[43m,\u001b[49m\n\u001b[32m   1557\u001b[39m \u001b[43m                             \u001b[49m\u001b[43mcwd\u001b[49m\u001b[43m,\u001b[49m\n\u001b[32m   1558\u001b[39m \u001b[43m                             \u001b[49m\u001b[43mstartupinfo\u001b[49m\u001b[43m)\u001b[49m\n\u001b[32m   1559\u001b[39m \u001b[38;5;28;01mfinally\u001b[39;00m:\n\u001b[32m   1560\u001b[39m     \u001b[38;5;66;03m# Child is launched. Close the parent's copy of those pipe\u001b[39;00m\n\u001b[32m   1561\u001b[39m     \u001b[38;5;66;03m# handles that only the child should have open.  You need\u001b[39;00m\n\u001b[32m   (...)\u001b[39m\u001b[32m   1564\u001b[39m     \u001b[38;5;66;03m# pipe will not close when the child process exits and the\u001b[39;00m\n\u001b[32m   1565\u001b[39m     \u001b[38;5;66;03m# ReadFile will hang.\u001b[39;00m\n\u001b[32m   1566\u001b[39m     \u001b[38;5;28mself\u001b[39m._close_pipe_fds(p2cread, p2cwrite,\n\u001b[32m   1567\u001b[39m                          c2pread, c2pwrite,\n\u001b[32m   1568\u001b[39m                          errread, errwrite)\n",
      "\u001b[31mFileNotFoundError\u001b[39m: [WinError 2] The system cannot find the file specified"
     ]
    }
   ],
   "source": [
    "\n",
    "import os\n",
    "import subprocess\n",
    "import wfdb\n",
    "import pandas as pd\n",
    "import numpy as np\n",
    "import matplotlib.pyplot as plt\n",
    "\n",
    "# Path to your record (adjust as needed)\n",
    "record_name = 'ptbxl_data/records100/00000/00001_lr'\n",
    "annotator = 'wave'\n",
    "out_annot = f'{record_name}.{annotator}'\n",
    "\n",
    "# Run ecgpuwave\n",
    "exit_code = subprocess.call(['ecgpuwave', '-r', record_name, '-a', annotator])\n",
    "if exit_code != 0:\n",
    "    print(\"⚠️ ecgpuwave failed or is not installed. Install wfdb-tools and retry.\")\n",
    "else:\n",
    "    print(\"✅ ecgpuwave completed successfully\")\n"
   ]
  },
  {
   "cell_type": "code",
   "execution_count": 3,
   "id": "b7e9c7bc",
   "metadata": {},
   "outputs": [
    {
     "ename": "FileNotFoundError",
     "evalue": "[Errno 2] No such file or directory: 'f:/MLdataset/ptbxl_data/records100/00000/00001_lr.wave'",
     "output_type": "error",
     "traceback": [
      "\u001b[31m---------------------------------------------------------------------------\u001b[39m",
      "\u001b[31mFileNotFoundError\u001b[39m                         Traceback (most recent call last)",
      "\u001b[36mCell\u001b[39m\u001b[36m \u001b[39m\u001b[32mIn[3]\u001b[39m\u001b[32m, line 2\u001b[39m\n\u001b[32m      1\u001b[39m \u001b[38;5;66;03m# Read annotations\u001b[39;00m\n\u001b[32m----> \u001b[39m\u001b[32m2\u001b[39m ann = \u001b[43mwfdb\u001b[49m\u001b[43m.\u001b[49m\u001b[43mrdann\u001b[49m\u001b[43m(\u001b[49m\u001b[43mrecord_name\u001b[49m\u001b[43m,\u001b[49m\u001b[43m \u001b[49m\u001b[43mannotator\u001b[49m\u001b[43m)\u001b[49m\n\u001b[32m      3\u001b[39m df_ann = pd.DataFrame({\u001b[33m'\u001b[39m\u001b[33msample\u001b[39m\u001b[33m'\u001b[39m: ann.sample, \u001b[33m'\u001b[39m\u001b[33msymbol\u001b[39m\u001b[33m'\u001b[39m: ann.symbol, \u001b[33m'\u001b[39m\u001b[33mnum\u001b[39m\u001b[33m'\u001b[39m: ann.num})\n\u001b[32m      4\u001b[39m df_ann.head()\n",
      "\u001b[36mFile \u001b[39m\u001b[32mc:\\Users\\Hajel\\AppData\\Local\\Programs\\Python\\Python313\\Lib\\site-packages\\wfdb\\io\\annotation.py:1959\u001b[39m, in \u001b[36mrdann\u001b[39m\u001b[34m(record_name, extension, sampfrom, sampto, shift_samps, pn_dir, return_label_elements, summarize_labels)\u001b[39m\n\u001b[32m   1954\u001b[39m return_label_elements = check_read_inputs(\n\u001b[32m   1955\u001b[39m     sampfrom, sampto, return_label_elements\n\u001b[32m   1956\u001b[39m )\n\u001b[32m   1958\u001b[39m \u001b[38;5;66;03m# Read the file in byte pairs\u001b[39;00m\n\u001b[32m-> \u001b[39m\u001b[32m1959\u001b[39m filebytes = \u001b[43mload_byte_pairs\u001b[49m\u001b[43m(\u001b[49m\u001b[43mrecord_name\u001b[49m\u001b[43m,\u001b[49m\u001b[43m \u001b[49m\u001b[43mextension\u001b[49m\u001b[43m,\u001b[49m\u001b[43m \u001b[49m\u001b[43mpn_dir\u001b[49m\u001b[43m)\u001b[49m\n\u001b[32m   1961\u001b[39m \u001b[38;5;66;03m# Get WFDB annotation fields from the file bytes\u001b[39;00m\n\u001b[32m   1962\u001b[39m (sample, label_store, subtype, chan, num, aux_note) = proc_ann_bytes(\n\u001b[32m   1963\u001b[39m     filebytes, sampto\n\u001b[32m   1964\u001b[39m )\n",
      "\u001b[36mFile \u001b[39m\u001b[32mc:\\Users\\Hajel\\AppData\\Local\\Programs\\Python\\Python313\\Lib\\site-packages\\wfdb\\io\\annotation.py:2100\u001b[39m, in \u001b[36mload_byte_pairs\u001b[39m\u001b[34m(record_name, extension, pn_dir)\u001b[39m\n\u001b[32m   2098\u001b[39m \u001b[38;5;66;03m# local or cloud file\u001b[39;00m\n\u001b[32m   2099\u001b[39m \u001b[38;5;28;01mif\u001b[39;00m pn_dir \u001b[38;5;129;01mis\u001b[39;00m \u001b[38;5;28;01mNone\u001b[39;00m:\n\u001b[32m-> \u001b[39m\u001b[32m2100\u001b[39m \u001b[43m    \u001b[49m\u001b[38;5;28;43;01mwith\u001b[39;49;00m\u001b[43m \u001b[49m\u001b[43mfsspec\u001b[49m\u001b[43m.\u001b[49m\u001b[43mopen\u001b[49m\u001b[43m(\u001b[49m\u001b[43mrecord_name\u001b[49m\u001b[43m \u001b[49m\u001b[43m+\u001b[49m\u001b[43m \u001b[49m\u001b[33;43m\"\u001b[39;49m\u001b[33;43m.\u001b[39;49m\u001b[33;43m\"\u001b[39;49m\u001b[43m \u001b[49m\u001b[43m+\u001b[49m\u001b[43m \u001b[49m\u001b[43mextension\u001b[49m\u001b[43m,\u001b[49m\u001b[43m \u001b[49m\u001b[33;43m\"\u001b[39;49m\u001b[33;43mrb\u001b[39;49m\u001b[33;43m\"\u001b[39;49m\u001b[43m)\u001b[49m\u001b[43m \u001b[49m\u001b[38;5;28;43;01mas\u001b[39;49;00m\u001b[43m \u001b[49m\u001b[43mf\u001b[49m\u001b[43m:\u001b[49m\n\u001b[32m   2101\u001b[39m \u001b[43m        \u001b[49m\u001b[43mfilebytes\u001b[49m\u001b[43m \u001b[49m\u001b[43m=\u001b[49m\u001b[43m \u001b[49m\u001b[43mutil\u001b[49m\u001b[43m.\u001b[49m\u001b[43mfromfile\u001b[49m\u001b[43m(\u001b[49m\u001b[43mf\u001b[49m\u001b[43m,\u001b[49m\u001b[43m \u001b[49m\u001b[33;43m\"\u001b[39;49m\u001b[33;43m<u1\u001b[39;49m\u001b[33;43m\"\u001b[39;49m\u001b[43m)\u001b[49m\u001b[43m.\u001b[49m\u001b[43mreshape\u001b[49m\u001b[43m(\u001b[49m\u001b[43m[\u001b[49m\u001b[43m-\u001b[49m\u001b[32;43m1\u001b[39;49m\u001b[43m,\u001b[49m\u001b[43m \u001b[49m\u001b[32;43m2\u001b[39;49m\u001b[43m]\u001b[49m\u001b[43m)\u001b[49m\n\u001b[32m   2103\u001b[39m \u001b[38;5;66;03m# PhysioNet file\u001b[39;00m\n\u001b[32m   2104\u001b[39m \u001b[38;5;28;01melse\u001b[39;00m:\n",
      "\u001b[36mFile \u001b[39m\u001b[32mc:\\Users\\Hajel\\AppData\\Local\\Programs\\Python\\Python313\\Lib\\site-packages\\fsspec\\core.py:105\u001b[39m, in \u001b[36mOpenFile.__enter__\u001b[39m\u001b[34m(self)\u001b[39m\n\u001b[32m    102\u001b[39m mode = \u001b[38;5;28mself\u001b[39m.mode.replace(\u001b[33m\"\u001b[39m\u001b[33mt\u001b[39m\u001b[33m\"\u001b[39m, \u001b[33m\"\u001b[39m\u001b[33m\"\u001b[39m).replace(\u001b[33m\"\u001b[39m\u001b[33mb\u001b[39m\u001b[33m\"\u001b[39m, \u001b[33m\"\u001b[39m\u001b[33m\"\u001b[39m) + \u001b[33m\"\u001b[39m\u001b[33mb\u001b[39m\u001b[33m\"\u001b[39m\n\u001b[32m    104\u001b[39m \u001b[38;5;28;01mtry\u001b[39;00m:\n\u001b[32m--> \u001b[39m\u001b[32m105\u001b[39m     f = \u001b[38;5;28;43mself\u001b[39;49m\u001b[43m.\u001b[49m\u001b[43mfs\u001b[49m\u001b[43m.\u001b[49m\u001b[43mopen\u001b[49m\u001b[43m(\u001b[49m\u001b[38;5;28;43mself\u001b[39;49m\u001b[43m.\u001b[49m\u001b[43mpath\u001b[49m\u001b[43m,\u001b[49m\u001b[43m \u001b[49m\u001b[43mmode\u001b[49m\u001b[43m=\u001b[49m\u001b[43mmode\u001b[49m\u001b[43m)\u001b[49m\n\u001b[32m    106\u001b[39m \u001b[38;5;28;01mexcept\u001b[39;00m \u001b[38;5;167;01mFileNotFoundError\u001b[39;00m \u001b[38;5;28;01mas\u001b[39;00m e:\n\u001b[32m    107\u001b[39m     \u001b[38;5;28;01mif\u001b[39;00m has_magic(\u001b[38;5;28mself\u001b[39m.path):\n",
      "\u001b[36mFile \u001b[39m\u001b[32mc:\\Users\\Hajel\\AppData\\Local\\Programs\\Python\\Python313\\Lib\\site-packages\\fsspec\\spec.py:1310\u001b[39m, in \u001b[36mAbstractFileSystem.open\u001b[39m\u001b[34m(self, path, mode, block_size, cache_options, compression, **kwargs)\u001b[39m\n\u001b[32m   1308\u001b[39m \u001b[38;5;28;01melse\u001b[39;00m:\n\u001b[32m   1309\u001b[39m     ac = kwargs.pop(\u001b[33m\"\u001b[39m\u001b[33mautocommit\u001b[39m\u001b[33m\"\u001b[39m, \u001b[38;5;129;01mnot\u001b[39;00m \u001b[38;5;28mself\u001b[39m._intrans)\n\u001b[32m-> \u001b[39m\u001b[32m1310\u001b[39m     f = \u001b[38;5;28;43mself\u001b[39;49m\u001b[43m.\u001b[49m\u001b[43m_open\u001b[49m\u001b[43m(\u001b[49m\n\u001b[32m   1311\u001b[39m \u001b[43m        \u001b[49m\u001b[43mpath\u001b[49m\u001b[43m,\u001b[49m\n\u001b[32m   1312\u001b[39m \u001b[43m        \u001b[49m\u001b[43mmode\u001b[49m\u001b[43m=\u001b[49m\u001b[43mmode\u001b[49m\u001b[43m,\u001b[49m\n\u001b[32m   1313\u001b[39m \u001b[43m        \u001b[49m\u001b[43mblock_size\u001b[49m\u001b[43m=\u001b[49m\u001b[43mblock_size\u001b[49m\u001b[43m,\u001b[49m\n\u001b[32m   1314\u001b[39m \u001b[43m        \u001b[49m\u001b[43mautocommit\u001b[49m\u001b[43m=\u001b[49m\u001b[43mac\u001b[49m\u001b[43m,\u001b[49m\n\u001b[32m   1315\u001b[39m \u001b[43m        \u001b[49m\u001b[43mcache_options\u001b[49m\u001b[43m=\u001b[49m\u001b[43mcache_options\u001b[49m\u001b[43m,\u001b[49m\n\u001b[32m   1316\u001b[39m \u001b[43m        \u001b[49m\u001b[43m*\u001b[49m\u001b[43m*\u001b[49m\u001b[43mkwargs\u001b[49m\u001b[43m,\u001b[49m\n\u001b[32m   1317\u001b[39m \u001b[43m    \u001b[49m\u001b[43m)\u001b[49m\n\u001b[32m   1318\u001b[39m     \u001b[38;5;28;01mif\u001b[39;00m compression \u001b[38;5;129;01mis\u001b[39;00m \u001b[38;5;129;01mnot\u001b[39;00m \u001b[38;5;28;01mNone\u001b[39;00m:\n\u001b[32m   1319\u001b[39m         \u001b[38;5;28;01mfrom\u001b[39;00m\u001b[38;5;250m \u001b[39m\u001b[34;01mfsspec\u001b[39;00m\u001b[34;01m.\u001b[39;00m\u001b[34;01mcompression\u001b[39;00m\u001b[38;5;250m \u001b[39m\u001b[38;5;28;01mimport\u001b[39;00m compr\n",
      "\u001b[36mFile \u001b[39m\u001b[32mc:\\Users\\Hajel\\AppData\\Local\\Programs\\Python\\Python313\\Lib\\site-packages\\fsspec\\implementations\\local.py:201\u001b[39m, in \u001b[36mLocalFileSystem._open\u001b[39m\u001b[34m(self, path, mode, block_size, **kwargs)\u001b[39m\n\u001b[32m    199\u001b[39m \u001b[38;5;28;01mif\u001b[39;00m \u001b[38;5;28mself\u001b[39m.auto_mkdir \u001b[38;5;129;01mand\u001b[39;00m \u001b[33m\"\u001b[39m\u001b[33mw\u001b[39m\u001b[33m\"\u001b[39m \u001b[38;5;129;01min\u001b[39;00m mode:\n\u001b[32m    200\u001b[39m     \u001b[38;5;28mself\u001b[39m.makedirs(\u001b[38;5;28mself\u001b[39m._parent(path), exist_ok=\u001b[38;5;28;01mTrue\u001b[39;00m)\n\u001b[32m--> \u001b[39m\u001b[32m201\u001b[39m \u001b[38;5;28;01mreturn\u001b[39;00m \u001b[43mLocalFileOpener\u001b[49m\u001b[43m(\u001b[49m\u001b[43mpath\u001b[49m\u001b[43m,\u001b[49m\u001b[43m \u001b[49m\u001b[43mmode\u001b[49m\u001b[43m,\u001b[49m\u001b[43m \u001b[49m\u001b[43mfs\u001b[49m\u001b[43m=\u001b[49m\u001b[38;5;28;43mself\u001b[39;49m\u001b[43m,\u001b[49m\u001b[43m \u001b[49m\u001b[43m*\u001b[49m\u001b[43m*\u001b[49m\u001b[43mkwargs\u001b[49m\u001b[43m)\u001b[49m\n",
      "\u001b[36mFile \u001b[39m\u001b[32mc:\\Users\\Hajel\\AppData\\Local\\Programs\\Python\\Python313\\Lib\\site-packages\\fsspec\\implementations\\local.py:365\u001b[39m, in \u001b[36mLocalFileOpener.__init__\u001b[39m\u001b[34m(self, path, mode, autocommit, fs, compression, **kwargs)\u001b[39m\n\u001b[32m    363\u001b[39m \u001b[38;5;28mself\u001b[39m.compression = get_compression(path, compression)\n\u001b[32m    364\u001b[39m \u001b[38;5;28mself\u001b[39m.blocksize = io.DEFAULT_BUFFER_SIZE\n\u001b[32m--> \u001b[39m\u001b[32m365\u001b[39m \u001b[38;5;28;43mself\u001b[39;49m\u001b[43m.\u001b[49m\u001b[43m_open\u001b[49m\u001b[43m(\u001b[49m\u001b[43m)\u001b[49m\n",
      "\u001b[36mFile \u001b[39m\u001b[32mc:\\Users\\Hajel\\AppData\\Local\\Programs\\Python\\Python313\\Lib\\site-packages\\fsspec\\implementations\\local.py:370\u001b[39m, in \u001b[36mLocalFileOpener._open\u001b[39m\u001b[34m(self)\u001b[39m\n\u001b[32m    368\u001b[39m \u001b[38;5;28;01mif\u001b[39;00m \u001b[38;5;28mself\u001b[39m.f \u001b[38;5;129;01mis\u001b[39;00m \u001b[38;5;28;01mNone\u001b[39;00m \u001b[38;5;129;01mor\u001b[39;00m \u001b[38;5;28mself\u001b[39m.f.closed:\n\u001b[32m    369\u001b[39m     \u001b[38;5;28;01mif\u001b[39;00m \u001b[38;5;28mself\u001b[39m.autocommit \u001b[38;5;129;01mor\u001b[39;00m \u001b[33m\"\u001b[39m\u001b[33mw\u001b[39m\u001b[33m\"\u001b[39m \u001b[38;5;129;01mnot\u001b[39;00m \u001b[38;5;129;01min\u001b[39;00m \u001b[38;5;28mself\u001b[39m.mode:\n\u001b[32m--> \u001b[39m\u001b[32m370\u001b[39m         \u001b[38;5;28mself\u001b[39m.f = \u001b[38;5;28;43mopen\u001b[39;49m\u001b[43m(\u001b[49m\u001b[38;5;28;43mself\u001b[39;49m\u001b[43m.\u001b[49m\u001b[43mpath\u001b[49m\u001b[43m,\u001b[49m\u001b[43m \u001b[49m\u001b[43mmode\u001b[49m\u001b[43m=\u001b[49m\u001b[38;5;28;43mself\u001b[39;49m\u001b[43m.\u001b[49m\u001b[43mmode\u001b[49m\u001b[43m)\u001b[49m\n\u001b[32m    371\u001b[39m         \u001b[38;5;28;01mif\u001b[39;00m \u001b[38;5;28mself\u001b[39m.compression:\n\u001b[32m    372\u001b[39m             compress = compr[\u001b[38;5;28mself\u001b[39m.compression]\n",
      "\u001b[31mFileNotFoundError\u001b[39m: [Errno 2] No such file or directory: 'f:/MLdataset/ptbxl_data/records100/00000/00001_lr.wave'"
     ]
    }
   ],
   "source": [
    "\n",
    "# Read annotations\n",
    "ann = wfdb.rdann(record_name, annotator)\n",
    "df_ann = pd.DataFrame({'sample': ann.sample, 'symbol': ann.symbol, 'num': ann.num})\n",
    "df_ann.head()\n"
   ]
  },
  {
   "cell_type": "code",
   "execution_count": null,
   "id": "6e6ea878",
   "metadata": {},
   "outputs": [],
   "source": [
    "\n",
    "# Map symbols to descriptive labels\n",
    "sym_map = {'p':'P_peak','N':'R_peak','t':'T_peak',\n",
    "           '(':{'0':'P_onset','1':'Q_onset','2':'T_onset'},\n",
    "           ')':{'0':'P_offset','1':'S_offset','2':'T_offset'}}\n",
    "\n",
    "entries = []\n",
    "for samp, sym, num in zip(ann.sample, ann.symbol, ann.num):\n",
    "    if sym in ['p','N','t']:\n",
    "        label = sym_map[sym]\n",
    "    elif sym in ['(',')']:\n",
    "        label = sym_map[sym].get(str(num),'unknown')\n",
    "    else:\n",
    "        continue\n",
    "    entries.append((samp,label))\n",
    "\n",
    "df_fid = pd.DataFrame(entries, columns=['sample','label'])\n",
    "df_fid.head(10)\n"
   ]
  },
  {
   "cell_type": "code",
   "execution_count": null,
   "id": "0800c841",
   "metadata": {},
   "outputs": [],
   "source": [
    "\n",
    "# Load ECG signal\n",
    "sig, _ = wfdb.rdsamp(record_name)\n",
    "fs = 100  # Sampling frequency for low-res PTBXL\n",
    "ecg = sig[:,1]  # Lead II\n",
    "\n",
    "# Plot ECG with detected fiducials\n",
    "plt.figure(figsize=(15,4))\n",
    "plt.plot(ecg, color='black', label='ECG')\n",
    "\n",
    "colors = {'P_onset':'cyan','P_offset':'blue','P_peak':'navy',\n",
    "          'Q_onset':'lime','R_peak':'red','S_offset':'orange',\n",
    "          'T_onset':'magenta','T_peak':'purple','T_offset':'pink'}\n",
    "\n",
    "for label, group in df_fid.groupby('label'):\n",
    "    if label in colors:\n",
    "        plt.scatter(group['sample'], ecg[group['sample']], label=label, color=colors[label], s=30)\n",
    "\n",
    "plt.legend(loc='upper left', ncol=3)\n",
    "plt.title('ECGPUWAVE Detected P/QRS/T Onsets, Peaks, and Offsets')\n",
    "plt.xlabel('Sample Index')\n",
    "plt.ylabel('Amplitude')\n",
    "plt.show()\n"
   ]
  },
  {
   "cell_type": "code",
   "execution_count": null,
   "id": "4144ef21",
   "metadata": {},
   "outputs": [],
   "source": [
    "\n",
    "# Extract arrays for computation\n",
    "P_on = df_fid[df_fid['label']=='P_onset']['sample'].values\n",
    "Q_on = df_fid[df_fid['label']=='Q_onset']['sample'].values\n",
    "S_off = df_fid[df_fid['label']=='S_offset']['sample'].values\n",
    "T_off = df_fid[df_fid['label']=='T_offset']['sample'].values\n",
    "\n",
    "def safe_interval(arr1, arr2):\n",
    "    return np.nanmean([(b-a)/fs*1000 for a,b in zip(arr1,arr2) if b>a]) if len(arr1) and len(arr2) else np.nan\n",
    "\n",
    "PR = safe_interval(P_on, Q_on)\n",
    "QRS = safe_interval(Q_on, S_off)\n",
    "QT = safe_interval(Q_on, T_off)\n",
    "\n",
    "print(f\"PR interval: {PR:.2f} ms\")\n",
    "print(f\"QRS duration: {QRS:.2f} ms\")\n",
    "print(f\"QT interval: {QT:.2f} ms\")\n"
   ]
  }
 ],
 "metadata": {
  "kernelspec": {
   "display_name": "Python 3",
   "language": "python",
   "name": "python3"
  },
  "language_info": {
   "codemirror_mode": {
    "name": "ipython",
    "version": 3
   },
   "file_extension": ".py",
   "mimetype": "text/x-python",
   "name": "python",
   "nbconvert_exporter": "python",
   "pygments_lexer": "ipython3",
   "version": "3.13.3"
  }
 },
 "nbformat": 4,
 "nbformat_minor": 5
}
