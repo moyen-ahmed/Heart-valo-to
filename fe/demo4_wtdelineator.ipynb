{
 "cells": [
  {
   "cell_type": "code",
   "execution_count": null,
   "id": "935d0267",
   "metadata": {},
   "outputs": [],
   "source": [
    "# --- Install dependencies and clone WTdelineator ---\n",
    "!pip install numpy scipy matplotlib wfdb pywavelets\n",
    "!git clone https://github.com/caledezma/WTdelineator.git || echo \"Repo already cloned\"\n"
   ]
  },
  {
   "cell_type": "code",
   "execution_count": null,
   "id": "e11724eb",
   "metadata": {},
   "outputs": [],
   "source": [
    "import sys\n",
    "import numpy as np\n",
    "import matplotlib.pyplot as plt\n",
    "\n",
    "# Add WTdelineator to Python path\n",
    "sys.path.append(\"WTdelineator\")\n",
    "\n",
    "# Import wtdelineate function\n",
    "from wtdet import wtdelineate\n"
   ]
  },
  {
   "cell_type": "code",
   "execution_count": null,
   "id": "7efe8636",
   "metadata": {},
   "outputs": [],
   "source": [
    "# --- Load ECG Signal (synthetic example) ---\n",
    "fs = 250  # Sampling frequency\n",
    "t = np.linspace(0, 10, fs*10)\n",
    "ecg = 0.5*np.sin(2*np.pi*1.3*t) + 0.05*np.random.randn(len(t))\n",
    "\n",
    "plt.figure(figsize=(10,4))\n",
    "plt.plot(t, ecg)\n",
    "plt.title(\"Synthetic ECG Signal\")\n",
    "plt.xlabel(\"Time (s)\")\n",
    "plt.ylabel(\"Amplitude (mV)\")\n",
    "plt.show()\n"
   ]
  },
  {
   "cell_type": "code",
   "execution_count": null,
   "id": "5a09e16a",
   "metadata": {},
   "outputs": [],
   "source": [
    "# --- Run WT-based ECG delineation ---\n",
    "results = wtdelineate(ecg, fs)\n",
    "print(\"WT delineation results:\", results)\n"
   ]
  },
  {
   "cell_type": "code",
   "execution_count": null,
   "id": "b65ed133",
   "metadata": {},
   "outputs": [],
   "source": [
    "# --- Plot ECG with detected points ---\n",
    "plt.figure(figsize=(12,5))\n",
    "plt.plot(t, ecg, label=\"ECG\")\n",
    "if isinstance(results, dict) and 'R' in results:\n",
    "    r_locs = results['R']\n",
    "    plt.plot(t[r_locs], ecg[r_locs], 'ro', label='R-peaks')\n",
    "plt.legend()\n",
    "plt.title(\"ECG with WT-detected features\")\n",
    "plt.show()\n"
   ]
  }
 ],
 "metadata": {},
 "nbformat": 4,
 "nbformat_minor": 5
}
